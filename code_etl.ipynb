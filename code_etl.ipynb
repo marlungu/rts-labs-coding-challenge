{
 "cells": [
  {
   "cell_type": "markdown",
   "metadata": {
    "application/vnd.databricks.v1+cell": {
     "cellMetadata": {},
     "inputWidgets": {},
     "nuid": "d1d89bd9-dd9c-424a-a094-4967790d6054",
     "showTitle": false,
     "tableResultSettingsMap": {},
     "title": ""
    }
   },
   "source": [
    "**RTS Labs Coding Challenge - Data Engineering**"
   ]
  },
  {
   "cell_type": "markdown",
   "metadata": {
    "application/vnd.databricks.v1+cell": {
     "cellMetadata": {},
     "inputWidgets": {},
     "nuid": "361cb603-48a5-4fb1-b767-ed7d2464e443",
     "showTitle": false,
     "tableResultSettingsMap": {},
     "title": ""
    }
   },
   "source": [
    "XYZ Travel website allows users to search and book flights, hotels, and cars. They want to\n",
    "build a data warehouse/lake to gain customer intelligence. Website allows users to perform\n",
    "below actions:\n",
    "\n",
    "**Search**\n",
    "\n",
    "The user searches according to the following attributes:\n",
    "\n",
    "  **Flights**\n",
    "-   Departure and arrival airport\n",
    "-   Departure and arrival time\n",
    "-   Number of passengers\n",
    "\n",
    "  **Hotels**\n",
    "-   Location\n",
    "-   Number of rooms\n",
    "\n",
    "  **Cars**\n",
    "-   Model\n",
    "-   Number of passengers\n",
    "\n",
    "**Booking**\n",
    "\n",
    "  The user can book any of the above items. They don't need to register to complete the\n",
    "booking.\n",
    "  Registered users can view their past reservations and also their previous five searches.\n",
    "\n",
    "**Questions**\n",
    "\n",
    "1. Please provide a database model for DWH\n",
    "2. Please provide SQL to get: Hotels booked in 2021 and not in 2022\n",
    "3. Please provide SQL to get: Amount spent on booking by registered users vs\n",
    "non-registered users\n",
    "4. Please provide SQL to get: Top 10 searches for each year\n",
    "5. Please provide SQL to get: Percentage growth in booking by year and business lines\n",
    "(Flight, Hotel, Car)"
   ]
  },
  {
   "cell_type": "markdown",
   "metadata": {
    "application/vnd.databricks.v1+cell": {
     "cellMetadata": {},
     "inputWidgets": {},
     "nuid": "523d7b7c-c0f6-49ca-b448-68e913deeea3",
     "showTitle": false,
     "tableResultSettingsMap": {},
     "title": ""
    }
   },
   "source": [
    "**1. Please provide a database model for DWH -- Redshift**\n",
    "\n",
    "Amazon Redshift is a great choice for storing and analyzing large amounts of data because it works fast, can grow with your needs, is affordable, and connects easily with other AWS tools. It’s designed to handle big datasets and make sense of the information quickly and efficiently."
   ]
  },
  {
   "cell_type": "markdown",
   "metadata": {
    "application/vnd.databricks.v1+cell": {
     "cellMetadata": {},
     "inputWidgets": {},
     "nuid": "0dbbe131-d9d4-42d3-893d-f71b236e9889",
     "showTitle": false,
     "tableResultSettingsMap": {},
     "title": ""
    }
   },
   "source": [
    "**Create Tables**\n",
    "\n",
    "Fact Tables:\n",
    "- `SearchFact`\n",
    "- `BookingFact`\n",
    "\n",
    "Dimension Tables:\n",
    "- `UserDimension`\n",
    "- `DateDimension`\n",
    "- `BusinessLineDimension`\n"
   ]
  },
  {
   "cell_type": "code",
   "execution_count": 0,
   "metadata": {
    "application/vnd.databricks.v1+cell": {
     "cellMetadata": {
      "byteLimit": 2048000,
      "implicitDf": true,
      "rowLimit": 10000
     },
     "inputWidgets": {},
     "nuid": "b173d157-7b69-4da7-9c2e-74ec2bcb7ebd",
     "showTitle": false,
     "tableResultSettingsMap": {},
     "title": ""
    }
   },
   "outputs": [
    {
     "data": {
      "text/html": [
       "<style scoped>\n",
       "  .table-result-container {\n",
       "    max-height: 300px;\n",
       "    overflow: auto;\n",
       "  }\n",
       "  table, th, td {\n",
       "    border: 1px solid black;\n",
       "    border-collapse: collapse;\n",
       "  }\n",
       "  th, td {\n",
       "    padding: 5px;\n",
       "  }\n",
       "  th {\n",
       "    text-align: left;\n",
       "  }\n",
       "</style><div class='table-result-container'><table class='table-result'><thead style='background-color: white'><tr></tr></thead><tbody></tbody></table></div>"
      ]
     },
     "metadata": {
      "application/vnd.databricks.v1+output": {
       "addedWidgets": {},
       "aggData": [],
       "aggError": "",
       "aggOverflow": false,
       "aggSchema": [],
       "aggSeriesLimitReached": false,
       "aggType": "",
       "arguments": {},
       "columnCustomDisplayInfos": {},
       "data": [],
       "datasetInfos": [],
       "dbfsResultPath": null,
       "isJsonSchema": true,
       "metadata": {
        "dataframeName": null
       },
       "overflow": false,
       "plotOptions": {
        "customPlotOptions": {},
        "displayType": "table",
        "pivotAggregation": null,
        "pivotColumns": null,
        "xColumns": null,
        "yColumns": null
       },
       "removedWidgets": [],
       "schema": [],
       "type": "table"
      }
     },
     "output_type": "display_data"
    }
   ],
   "source": [
    "%sql\n",
    "CREATE TABLE IF NOT EXISTS BookingFact (\n",
    "    BookingID INT PRIMARY KEY,\n",
    "    UserID INT,                               \n",
    "    BookingDate DATE NOT NULL,              \n",
    "    BusinessLine VARCHAR(50) NOT NULL,\n",
    "    Amount DECIMAL(10, 2),        \n",
    "    SearchID INT\n",
    ");"
   ]
  },
  {
   "cell_type": "code",
   "execution_count": 0,
   "metadata": {
    "application/vnd.databricks.v1+cell": {
     "cellMetadata": {
      "byteLimit": 2048000,
      "implicitDf": true,
      "rowLimit": 10000
     },
     "inputWidgets": {},
     "nuid": "c48fe2ed-498a-45ed-beaa-f54b520a4c71",
     "showTitle": false,
     "tableResultSettingsMap": {},
     "title": ""
    }
   },
   "outputs": [
    {
     "data": {
      "text/html": [
       "<style scoped>\n",
       "  .table-result-container {\n",
       "    max-height: 300px;\n",
       "    overflow: auto;\n",
       "  }\n",
       "  table, th, td {\n",
       "    border: 1px solid black;\n",
       "    border-collapse: collapse;\n",
       "  }\n",
       "  th, td {\n",
       "    padding: 5px;\n",
       "  }\n",
       "  th {\n",
       "    text-align: left;\n",
       "  }\n",
       "</style><div class='table-result-container'><table class='table-result'><thead style='background-color: white'><tr></tr></thead><tbody></tbody></table></div>"
      ]
     },
     "metadata": {
      "application/vnd.databricks.v1+output": {
       "addedWidgets": {},
       "aggData": [],
       "aggError": "",
       "aggOverflow": false,
       "aggSchema": [],
       "aggSeriesLimitReached": false,
       "aggType": "",
       "arguments": {},
       "columnCustomDisplayInfos": {},
       "data": [],
       "datasetInfos": [],
       "dbfsResultPath": null,
       "isJsonSchema": true,
       "metadata": {
        "dataframeName": null
       },
       "overflow": false,
       "plotOptions": {
        "customPlotOptions": {},
        "displayType": "table",
        "pivotAggregation": null,
        "pivotColumns": null,
        "xColumns": null,
        "yColumns": null
       },
       "removedWidgets": [],
       "schema": [],
       "type": "table"
      }
     },
     "output_type": "display_data"
    }
   ],
   "source": [
    "%sql\n",
    "CREATE TABLE IF NOT EXISTS SearchFact (\n",
    "    SearchID INT PRIMARY KEY,\n",
    "    UserID INT,\n",
    "    SearchDate DATE NOT NULL,\n",
    "    BusinessLine VARCHAR(50) NOT NULL,\n",
    "    SearchDetails STRING\n",
    ");"
   ]
  },
  {
   "cell_type": "code",
   "execution_count": 0,
   "metadata": {
    "application/vnd.databricks.v1+cell": {
     "cellMetadata": {
      "byteLimit": 2048000,
      "implicitDf": true,
      "rowLimit": 10000
     },
     "inputWidgets": {},
     "nuid": "6e214911-c434-4126-b9af-0bae3e95e50f",
     "showTitle": false,
     "tableResultSettingsMap": {},
     "title": ""
    }
   },
   "outputs": [
    {
     "data": {
      "text/html": [
       "<style scoped>\n",
       "  .table-result-container {\n",
       "    max-height: 300px;\n",
       "    overflow: auto;\n",
       "  }\n",
       "  table, th, td {\n",
       "    border: 1px solid black;\n",
       "    border-collapse: collapse;\n",
       "  }\n",
       "  th, td {\n",
       "    padding: 5px;\n",
       "  }\n",
       "  th {\n",
       "    text-align: left;\n",
       "  }\n",
       "</style><div class='table-result-container'><table class='table-result'><thead style='background-color: white'><tr></tr></thead><tbody></tbody></table></div>"
      ]
     },
     "metadata": {
      "application/vnd.databricks.v1+output": {
       "addedWidgets": {},
       "aggData": [],
       "aggError": "",
       "aggOverflow": false,
       "aggSchema": [],
       "aggSeriesLimitReached": false,
       "aggType": "",
       "arguments": {},
       "columnCustomDisplayInfos": {},
       "data": [],
       "datasetInfos": [],
       "dbfsResultPath": null,
       "isJsonSchema": true,
       "metadata": {
        "dataframeName": null
       },
       "overflow": false,
       "plotOptions": {
        "customPlotOptions": {},
        "displayType": "table",
        "pivotAggregation": null,
        "pivotColumns": null,
        "xColumns": null,
        "yColumns": null
       },
       "removedWidgets": [],
       "schema": [],
       "type": "table"
      }
     },
     "output_type": "display_data"
    }
   ],
   "source": [
    "%sql\n",
    "CREATE TABLE IF NOT EXISTS UserDimension (\n",
    "    UserID BIGINT GENERATED ALWAYS AS IDENTITY PRIMARY KEY,\n",
    "    IsRegistered BOOLEAN NOT NULL\n",
    ");"
   ]
  },
  {
   "cell_type": "code",
   "execution_count": 0,
   "metadata": {
    "application/vnd.databricks.v1+cell": {
     "cellMetadata": {
      "byteLimit": 2048000,
      "implicitDf": true,
      "rowLimit": 10000
     },
     "inputWidgets": {},
     "nuid": "69c5558e-6024-4931-bcac-f8aa376f24f2",
     "showTitle": false,
     "tableResultSettingsMap": {},
     "title": ""
    }
   },
   "outputs": [
    {
     "data": {
      "text/html": [
       "<style scoped>\n",
       "  .table-result-container {\n",
       "    max-height: 300px;\n",
       "    overflow: auto;\n",
       "  }\n",
       "  table, th, td {\n",
       "    border: 1px solid black;\n",
       "    border-collapse: collapse;\n",
       "  }\n",
       "  th, td {\n",
       "    padding: 5px;\n",
       "  }\n",
       "  th {\n",
       "    text-align: left;\n",
       "  }\n",
       "</style><div class='table-result-container'><table class='table-result'><thead style='background-color: white'><tr></tr></thead><tbody></tbody></table></div>"
      ]
     },
     "metadata": {
      "application/vnd.databricks.v1+output": {
       "addedWidgets": {},
       "aggData": [],
       "aggError": "",
       "aggOverflow": false,
       "aggSchema": [],
       "aggSeriesLimitReached": false,
       "aggType": "",
       "arguments": {},
       "columnCustomDisplayInfos": {},
       "data": [],
       "datasetInfos": [],
       "dbfsResultPath": null,
       "isJsonSchema": true,
       "metadata": {
        "dataframeName": null
       },
       "overflow": false,
       "plotOptions": {
        "customPlotOptions": {},
        "displayType": "table",
        "pivotAggregation": null,
        "pivotColumns": null,
        "xColumns": null,
        "yColumns": null
       },
       "removedWidgets": [],
       "schema": [],
       "type": "table"
      }
     },
     "output_type": "display_data"
    }
   ],
   "source": [
    "%sql\n",
    "CREATE TABLE IF NOT EXISTS DateDimension (\n",
    "    DateKey DATE PRIMARY KEY,\n",
    "    Year INT NOT NULL,\n",
    "    Month INT NOT NULL,\n",
    "    Day INT NOT NULL,\n",
    "    DayOfWeek VARCHAR(10)\n",
    ");"
   ]
  },
  {
   "cell_type": "code",
   "execution_count": 0,
   "metadata": {
    "application/vnd.databricks.v1+cell": {
     "cellMetadata": {
      "byteLimit": 2048000,
      "implicitDf": true,
      "rowLimit": 10000
     },
     "inputWidgets": {},
     "nuid": "6b07b4d6-938c-4683-97a3-05ca4c0877a5",
     "showTitle": false,
     "tableResultSettingsMap": {},
     "title": ""
    }
   },
   "outputs": [
    {
     "data": {
      "text/html": [
       "<style scoped>\n",
       "  .table-result-container {\n",
       "    max-height: 300px;\n",
       "    overflow: auto;\n",
       "  }\n",
       "  table, th, td {\n",
       "    border: 1px solid black;\n",
       "    border-collapse: collapse;\n",
       "  }\n",
       "  th, td {\n",
       "    padding: 5px;\n",
       "  }\n",
       "  th {\n",
       "    text-align: left;\n",
       "  }\n",
       "</style><div class='table-result-container'><table class='table-result'><thead style='background-color: white'><tr></tr></thead><tbody></tbody></table></div>"
      ]
     },
     "metadata": {
      "application/vnd.databricks.v1+output": {
       "addedWidgets": {},
       "aggData": [],
       "aggError": "",
       "aggOverflow": false,
       "aggSchema": [],
       "aggSeriesLimitReached": false,
       "aggType": "",
       "arguments": {},
       "columnCustomDisplayInfos": {},
       "data": [],
       "datasetInfos": [],
       "dbfsResultPath": null,
       "isJsonSchema": true,
       "metadata": {
        "dataframeName": null
       },
       "overflow": false,
       "plotOptions": {
        "customPlotOptions": {},
        "displayType": "table",
        "pivotAggregation": null,
        "pivotColumns": null,
        "xColumns": null,
        "yColumns": null
       },
       "removedWidgets": [],
       "schema": [],
       "type": "table"
      }
     },
     "output_type": "display_data"
    }
   ],
   "source": [
    "%sql\n",
    "CREATE TABLE IF NOT EXISTS BusinessLineDimension (\n",
    "    BusinessLineID BIGINT GENERATED ALWAYS AS IDENTITY PRIMARY KEY,\n",
    "    BusinessLineName VARCHAR(50) NOT NULL\n",
    ");\n"
   ]
  },
  {
   "cell_type": "code",
   "execution_count": 0,
   "metadata": {
    "application/vnd.databricks.v1+cell": {
     "cellMetadata": {
      "byteLimit": 2048000,
      "implicitDf": true,
      "rowLimit": 10000
     },
     "inputWidgets": {},
     "nuid": "59f38062-3987-433d-bee4-792a9c9d0abf",
     "showTitle": false,
     "tableResultSettingsMap": {},
     "title": ""
    }
   },
   "outputs": [
    {
     "data": {
      "text/html": [
       "<style scoped>\n",
       "  .table-result-container {\n",
       "    max-height: 300px;\n",
       "    overflow: auto;\n",
       "  }\n",
       "  table, th, td {\n",
       "    border: 1px solid black;\n",
       "    border-collapse: collapse;\n",
       "  }\n",
       "  th, td {\n",
       "    padding: 5px;\n",
       "  }\n",
       "  th {\n",
       "    text-align: left;\n",
       "  }\n",
       "</style><div class='table-result-container'><table class='table-result'><thead style='background-color: white'><tr><th>num_affected_rows</th><th>num_inserted_rows</th></tr></thead><tbody><tr><td>4</td><td>4</td></tr></tbody></table></div>"
      ]
     },
     "metadata": {
      "application/vnd.databricks.v1+output": {
       "addedWidgets": {},
       "aggData": [],
       "aggError": "",
       "aggOverflow": false,
       "aggSchema": [],
       "aggSeriesLimitReached": false,
       "aggType": "",
       "arguments": {},
       "columnCustomDisplayInfos": {},
       "data": [
        [
         4,
         4
        ]
       ],
       "datasetInfos": [],
       "dbfsResultPath": null,
       "isJsonSchema": true,
       "metadata": {
        "createTempViewForImplicitDf": true,
        "dataframeName": "_sqldf",
        "executionCount": 109
       },
       "overflow": false,
       "plotOptions": {
        "customPlotOptions": {},
        "displayType": "table",
        "pivotAggregation": null,
        "pivotColumns": null,
        "xColumns": null,
        "yColumns": null
       },
       "removedWidgets": [],
       "schema": [
        {
         "metadata": "{}",
         "name": "num_affected_rows",
         "type": "\"long\""
        },
        {
         "metadata": "{}",
         "name": "num_inserted_rows",
         "type": "\"long\""
        }
       ],
       "type": "table"
      }
     },
     "output_type": "display_data"
    }
   ],
   "source": [
    "%sql\n",
    "\n",
    "-- INSERT into UserDimension Table\n",
    "INSERT INTO UserDimension (IsRegistered)\n",
    "VALUES\n",
    "(TRUE),\n",
    "(FALSE),\n",
    "(TRUE),\n",
    "(FALSE);"
   ]
  },
  {
   "cell_type": "code",
   "execution_count": 0,
   "metadata": {
    "application/vnd.databricks.v1+cell": {
     "cellMetadata": {
      "byteLimit": 2048000,
      "implicitDf": true,
      "rowLimit": 10000
     },
     "inputWidgets": {},
     "nuid": "213bfd55-d65e-4b86-91a0-e2230823924b",
     "showTitle": false,
     "tableResultSettingsMap": {},
     "title": ""
    }
   },
   "outputs": [
    {
     "data": {
      "text/html": [
       "<style scoped>\n",
       "  .table-result-container {\n",
       "    max-height: 300px;\n",
       "    overflow: auto;\n",
       "  }\n",
       "  table, th, td {\n",
       "    border: 1px solid black;\n",
       "    border-collapse: collapse;\n",
       "  }\n",
       "  th, td {\n",
       "    padding: 5px;\n",
       "  }\n",
       "  th {\n",
       "    text-align: left;\n",
       "  }\n",
       "</style><div class='table-result-container'><table class='table-result'><thead style='background-color: white'><tr><th>num_affected_rows</th><th>num_inserted_rows</th></tr></thead><tbody><tr><td>4</td><td>4</td></tr></tbody></table></div>"
      ]
     },
     "metadata": {
      "application/vnd.databricks.v1+output": {
       "addedWidgets": {},
       "aggData": [],
       "aggError": "",
       "aggOverflow": false,
       "aggSchema": [],
       "aggSeriesLimitReached": false,
       "aggType": "",
       "arguments": {},
       "columnCustomDisplayInfos": {},
       "data": [
        [
         4,
         4
        ]
       ],
       "datasetInfos": [],
       "dbfsResultPath": null,
       "isJsonSchema": true,
       "metadata": {
        "createTempViewForImplicitDf": true,
        "dataframeName": "_sqldf",
        "executionCount": 112
       },
       "overflow": false,
       "plotOptions": {
        "customPlotOptions": {},
        "displayType": "table",
        "pivotAggregation": null,
        "pivotColumns": null,
        "xColumns": null,
        "yColumns": null
       },
       "removedWidgets": [],
       "schema": [
        {
         "metadata": "{}",
         "name": "num_affected_rows",
         "type": "\"long\""
        },
        {
         "metadata": "{}",
         "name": "num_inserted_rows",
         "type": "\"long\""
        }
       ],
       "type": "table"
      }
     },
     "output_type": "display_data"
    }
   ],
   "source": [
    "%sql\n",
    "-- INSERT into DateDimension Table\n",
    "INSERT INTO DateDimension (DateKey, Year, Month, Day, DayOfWeek)\n",
    "VALUES\n",
    "('2021-01-01', 2021, 1, 1, 'Friday'),\n",
    "('2021-06-15', 2021, 6, 15, 'Tuesday'),\n",
    "('2022-07-20', 2022, 7, 20, 'Wednesday'),\n",
    "('2022-08-05', 2022, 8, 5, 'Friday');\n"
   ]
  },
  {
   "cell_type": "code",
   "execution_count": 0,
   "metadata": {
    "application/vnd.databricks.v1+cell": {
     "cellMetadata": {
      "byteLimit": 2048000,
      "implicitDf": true,
      "rowLimit": 10000
     },
     "inputWidgets": {},
     "nuid": "aadf036a-c2b7-41f5-9c03-c5ed81801569",
     "showTitle": false,
     "tableResultSettingsMap": {},
     "title": ""
    }
   },
   "outputs": [
    {
     "data": {
      "text/html": [
       "<style scoped>\n",
       "  .table-result-container {\n",
       "    max-height: 300px;\n",
       "    overflow: auto;\n",
       "  }\n",
       "  table, th, td {\n",
       "    border: 1px solid black;\n",
       "    border-collapse: collapse;\n",
       "  }\n",
       "  th, td {\n",
       "    padding: 5px;\n",
       "  }\n",
       "  th {\n",
       "    text-align: left;\n",
       "  }\n",
       "</style><div class='table-result-container'><table class='table-result'><thead style='background-color: white'><tr><th>num_affected_rows</th><th>num_inserted_rows</th></tr></thead><tbody><tr><td>3</td><td>3</td></tr></tbody></table></div>"
      ]
     },
     "metadata": {
      "application/vnd.databricks.v1+output": {
       "addedWidgets": {},
       "aggData": [],
       "aggError": "",
       "aggOverflow": false,
       "aggSchema": [],
       "aggSeriesLimitReached": false,
       "aggType": "",
       "arguments": {},
       "columnCustomDisplayInfos": {},
       "data": [
        [
         3,
         3
        ]
       ],
       "datasetInfos": [],
       "dbfsResultPath": null,
       "isJsonSchema": true,
       "metadata": {
        "createTempViewForImplicitDf": true,
        "dataframeName": "_sqldf",
        "executionCount": 113
       },
       "overflow": false,
       "plotOptions": {
        "customPlotOptions": {},
        "displayType": "table",
        "pivotAggregation": null,
        "pivotColumns": null,
        "xColumns": null,
        "yColumns": null
       },
       "removedWidgets": [],
       "schema": [
        {
         "metadata": "{}",
         "name": "num_affected_rows",
         "type": "\"long\""
        },
        {
         "metadata": "{}",
         "name": "num_inserted_rows",
         "type": "\"long\""
        }
       ],
       "type": "table"
      }
     },
     "output_type": "display_data"
    }
   ],
   "source": [
    "%sql\n",
    "-- INSERT into BusinessLineDimension Table\n",
    "INSERT INTO BusinessLineDimension (BusinessLineName)\n",
    "VALUES\n",
    "('Flight'),\n",
    "('Hotel'),\n",
    "('Car');"
   ]
  },
  {
   "cell_type": "code",
   "execution_count": 0,
   "metadata": {
    "application/vnd.databricks.v1+cell": {
     "cellMetadata": {
      "byteLimit": 2048000,
      "implicitDf": true,
      "rowLimit": 10000
     },
     "inputWidgets": {},
     "nuid": "d6b224b3-c278-42c6-b426-83ccf8ac8822",
     "showTitle": false,
     "tableResultSettingsMap": {},
     "title": ""
    }
   },
   "outputs": [
    {
     "data": {
      "text/html": [
       "<style scoped>\n",
       "  .table-result-container {\n",
       "    max-height: 300px;\n",
       "    overflow: auto;\n",
       "  }\n",
       "  table, th, td {\n",
       "    border: 1px solid black;\n",
       "    border-collapse: collapse;\n",
       "  }\n",
       "  th, td {\n",
       "    padding: 5px;\n",
       "  }\n",
       "  th {\n",
       "    text-align: left;\n",
       "  }\n",
       "</style><div class='table-result-container'><table class='table-result'><thead style='background-color: white'><tr><th>num_affected_rows</th><th>num_inserted_rows</th></tr></thead><tbody><tr><td>4</td><td>4</td></tr></tbody></table></div>"
      ]
     },
     "metadata": {
      "application/vnd.databricks.v1+output": {
       "addedWidgets": {},
       "aggData": [],
       "aggError": "",
       "aggOverflow": false,
       "aggSchema": [],
       "aggSeriesLimitReached": false,
       "aggType": "",
       "arguments": {},
       "columnCustomDisplayInfos": {},
       "data": [
        [
         4,
         4
        ]
       ],
       "datasetInfos": [],
       "dbfsResultPath": null,
       "isJsonSchema": true,
       "metadata": {
        "createTempViewForImplicitDf": true,
        "dataframeName": "_sqldf",
        "executionCount": 114
       },
       "overflow": false,
       "plotOptions": {
        "customPlotOptions": {},
        "displayType": "table",
        "pivotAggregation": null,
        "pivotColumns": null,
        "xColumns": null,
        "yColumns": null
       },
       "removedWidgets": [],
       "schema": [
        {
         "metadata": "{}",
         "name": "num_affected_rows",
         "type": "\"long\""
        },
        {
         "metadata": "{}",
         "name": "num_inserted_rows",
         "type": "\"long\""
        }
       ],
       "type": "table"
      }
     },
     "output_type": "display_data"
    }
   ],
   "source": [
    "%sql\n",
    "-- INSERT INTO SearchFact Table\n",
    "INSERT INTO SearchFact (SearchID, UserID, SearchDate, BusinessLine, SearchDetails)\n",
    "VALUES\n",
    "(1, 1, '2021-06-15', 'Flight', '{\"Departure\": \"NYC\", \"Arrival\": \"LAX\"}'),\n",
    "(2, 2, '2021-06-15', 'Hotel', '{\"Location\": \"Paris\", \"Rooms\": 2}'),\n",
    "(3, 3, '2022-07-20', 'Car', '{\"Model\": \"SUV\", \"Passengers\": 4}'),\n",
    "(4, NULL, '2022-08-05', 'Flight', '{\"Departure\": \"LON\", \"Arrival\": \"BER\"}');\n"
   ]
  },
  {
   "cell_type": "code",
   "execution_count": 0,
   "metadata": {
    "application/vnd.databricks.v1+cell": {
     "cellMetadata": {
      "byteLimit": 2048000,
      "implicitDf": true,
      "rowLimit": 10000
     },
     "inputWidgets": {},
     "nuid": "814f4f13-1ef8-4453-8518-4b6891ad3a9f",
     "showTitle": false,
     "tableResultSettingsMap": {},
     "title": ""
    }
   },
   "outputs": [
    {
     "data": {
      "text/html": [
       "<style scoped>\n",
       "  .table-result-container {\n",
       "    max-height: 300px;\n",
       "    overflow: auto;\n",
       "  }\n",
       "  table, th, td {\n",
       "    border: 1px solid black;\n",
       "    border-collapse: collapse;\n",
       "  }\n",
       "  th, td {\n",
       "    padding: 5px;\n",
       "  }\n",
       "  th {\n",
       "    text-align: left;\n",
       "  }\n",
       "</style><div class='table-result-container'><table class='table-result'><thead style='background-color: white'><tr><th>num_affected_rows</th><th>num_inserted_rows</th></tr></thead><tbody><tr><td>4</td><td>4</td></tr></tbody></table></div>"
      ]
     },
     "metadata": {
      "application/vnd.databricks.v1+output": {
       "addedWidgets": {},
       "aggData": [],
       "aggError": "",
       "aggOverflow": false,
       "aggSchema": [],
       "aggSeriesLimitReached": false,
       "aggType": "",
       "arguments": {},
       "columnCustomDisplayInfos": {},
       "data": [
        [
         4,
         4
        ]
       ],
       "datasetInfos": [],
       "dbfsResultPath": null,
       "isJsonSchema": true,
       "metadata": {
        "createTempViewForImplicitDf": true,
        "dataframeName": "_sqldf",
        "executionCount": 116
       },
       "overflow": false,
       "plotOptions": {
        "customPlotOptions": {},
        "displayType": "table",
        "pivotAggregation": null,
        "pivotColumns": null,
        "xColumns": null,
        "yColumns": null
       },
       "removedWidgets": [],
       "schema": [
        {
         "metadata": "{}",
         "name": "num_affected_rows",
         "type": "\"long\""
        },
        {
         "metadata": "{}",
         "name": "num_inserted_rows",
         "type": "\"long\""
        }
       ],
       "type": "table"
      }
     },
     "output_type": "display_data"
    }
   ],
   "source": [
    "%sql\n",
    "-- INSERT INTO BookingFact Table\n",
    "INSERT INTO BookingFact (BookingID, UserID, BookingDate, BusinessLine, Amount, SearchID)\n",
    "VALUES\n",
    "(1, 1, '2021-06-15', 'Hotel', 200.00, 2),\n",
    "(2, 2, '2021-06-15', 'Flight', 500.00, 1),\n",
    "(3, 3, '2022-07-20', 'Car', 150.00, 3),\n",
    "(4, NULL, '2022-08-05', 'Flight', 300.00, 4);"
   ]
  },
  {
   "cell_type": "markdown",
   "metadata": {
    "application/vnd.databricks.v1+cell": {
     "cellMetadata": {},
     "inputWidgets": {},
     "nuid": "72a0afbb-3082-40a3-913e-37ada910c49b",
     "showTitle": false,
     "tableResultSettingsMap": {},
     "title": ""
    }
   },
   "source": []
  },
  {
   "cell_type": "markdown",
   "metadata": {
    "application/vnd.databricks.v1+cell": {
     "cellMetadata": {},
     "inputWidgets": {},
     "nuid": "7abffd64-e2e1-4345-88e9-ec953775cbf5",
     "showTitle": false,
     "tableResultSettingsMap": {},
     "title": ""
    }
   },
   "source": [
    "**Question 2 - 5**"
   ]
  },
  {
   "cell_type": "code",
   "execution_count": 0,
   "metadata": {
    "application/vnd.databricks.v1+cell": {
     "cellMetadata": {
      "byteLimit": 2048000,
      "implicitDf": true,
      "rowLimit": 10000
     },
     "inputWidgets": {},
     "nuid": "631203b1-2671-47e2-a1a0-3fa07c67c37d",
     "showTitle": false,
     "tableResultSettingsMap": {},
     "title": ""
    }
   },
   "outputs": [
    {
     "data": {
      "text/html": [
       "<style scoped>\n",
       "  .table-result-container {\n",
       "    max-height: 300px;\n",
       "    overflow: auto;\n",
       "  }\n",
       "  table, th, td {\n",
       "    border: 1px solid black;\n",
       "    border-collapse: collapse;\n",
       "  }\n",
       "  th, td {\n",
       "    padding: 5px;\n",
       "  }\n",
       "  th {\n",
       "    text-align: left;\n",
       "  }\n",
       "</style><div class='table-result-container'><table class='table-result'><thead style='background-color: white'><tr><th>BookingID</th></tr></thead><tbody><tr><td>1</td></tr></tbody></table></div>"
      ]
     },
     "metadata": {
      "application/vnd.databricks.v1+output": {
       "addedWidgets": {},
       "aggData": [],
       "aggError": "",
       "aggOverflow": false,
       "aggSchema": [],
       "aggSeriesLimitReached": false,
       "aggType": "",
       "arguments": {},
       "columnCustomDisplayInfos": {},
       "data": [
        [
         1
        ]
       ],
       "datasetInfos": [],
       "dbfsResultPath": null,
       "isJsonSchema": true,
       "metadata": {
        "createTempViewForImplicitDf": true,
        "dataframeName": "_sqldf",
        "executionCount": 118
       },
       "overflow": false,
       "plotOptions": {
        "customPlotOptions": {},
        "displayType": "table",
        "pivotAggregation": null,
        "pivotColumns": null,
        "xColumns": null,
        "yColumns": null
       },
       "removedWidgets": [],
       "schema": [
        {
         "metadata": "{}",
         "name": "BookingID",
         "type": "\"integer\""
        }
       ],
       "type": "table"
      }
     },
     "output_type": "display_data"
    }
   ],
   "source": [
    "%sql\n",
    "-- Please provide SQL to get: Hotels booked in 2021 and not in 2022\n",
    "SELECT DISTINCT bf.BookingID\n",
    "FROM BookingFact bf\n",
    "JOIN DateDimension dd ON bf.BookingDate = dd.DateKey\n",
    "JOIN BusinessLineDimension bld ON bf.BusinessLine = bld.BusinessLineName\n",
    "WHERE bld.BusinessLineName = 'Hotel' AND dd.Year = 2021\n",
    "  AND NOT EXISTS (\n",
    "    SELECT 1\n",
    "    FROM BookingFact bf2\n",
    "    JOIN DateDimension dd2 ON bf2.BookingDate = dd2.DateKey\n",
    "    WHERE bf2.BusinessLine = 'Hotel' AND dd2.Year = 2022\n",
    "  );"
   ]
  },
  {
   "cell_type": "code",
   "execution_count": 0,
   "metadata": {
    "application/vnd.databricks.v1+cell": {
     "cellMetadata": {
      "byteLimit": 2048000,
      "implicitDf": true,
      "rowLimit": 10000
     },
     "inputWidgets": {},
     "nuid": "d181d78b-7d72-49bb-8037-6f226f7f0fae",
     "showTitle": false,
     "tableResultSettingsMap": {},
     "title": ""
    }
   },
   "outputs": [
    {
     "data": {
      "text/html": [
       "<style scoped>\n",
       "  .table-result-container {\n",
       "    max-height: 300px;\n",
       "    overflow: auto;\n",
       "  }\n",
       "  table, th, td {\n",
       "    border: 1px solid black;\n",
       "    border-collapse: collapse;\n",
       "  }\n",
       "  th, td {\n",
       "    padding: 5px;\n",
       "  }\n",
       "  th {\n",
       "    text-align: left;\n",
       "  }\n",
       "</style><div class='table-result-container'><table class='table-result'><thead style='background-color: white'><tr><th>IsRegistered</th><th>TotalAmount</th></tr></thead><tbody><tr><td>null</td><td>3000.00</td></tr><tr><td>true</td><td>3500.00</td></tr><tr><td>false</td><td>5000.00</td></tr></tbody></table></div>"
      ]
     },
     "metadata": {
      "application/vnd.databricks.v1+output": {
       "addedWidgets": {},
       "aggData": [],
       "aggError": "",
       "aggOverflow": false,
       "aggSchema": [],
       "aggSeriesLimitReached": false,
       "aggType": "",
       "arguments": {},
       "columnCustomDisplayInfos": {},
       "data": [
        [
         null,
         "3000.00"
        ],
        [
         true,
         "3500.00"
        ],
        [
         false,
         "5000.00"
        ]
       ],
       "datasetInfos": [],
       "dbfsResultPath": null,
       "isJsonSchema": true,
       "metadata": {
        "createTempViewForImplicitDf": true,
        "dataframeName": "_sqldf",
        "executionCount": 119
       },
       "overflow": false,
       "plotOptions": {
        "customPlotOptions": {},
        "displayType": "table",
        "pivotAggregation": null,
        "pivotColumns": null,
        "xColumns": null,
        "yColumns": null
       },
       "removedWidgets": [],
       "schema": [
        {
         "metadata": "{}",
         "name": "IsRegistered",
         "type": "\"boolean\""
        },
        {
         "metadata": "{}",
         "name": "TotalAmount",
         "type": "\"decimal(20,2)\""
        }
       ],
       "type": "table"
      }
     },
     "output_type": "display_data"
    }
   ],
   "source": [
    "%sql\n",
    "-- Amount spent on booking by registered users vs non-registered users\n",
    "SELECT \n",
    "    ud.IsRegistered,\n",
    "    SUM(bf.Amount) AS TotalAmount\n",
    "FROM BookingFact bf\n",
    "LEFT JOIN UserDimension ud ON bf.UserID = ud.UserID\n",
    "GROUP BY ud.IsRegistered;\n"
   ]
  },
  {
   "cell_type": "code",
   "execution_count": 0,
   "metadata": {
    "application/vnd.databricks.v1+cell": {
     "cellMetadata": {
      "byteLimit": 2048000,
      "implicitDf": true,
      "rowLimit": 10000
     },
     "inputWidgets": {},
     "nuid": "73074f03-0e4a-4829-a56e-dbae8d33dc4d",
     "showTitle": false,
     "tableResultSettingsMap": {},
     "title": ""
    }
   },
   "outputs": [
    {
     "data": {
      "text/html": [
       "<style scoped>\n",
       "  .table-result-container {\n",
       "    max-height: 300px;\n",
       "    overflow: auto;\n",
       "  }\n",
       "  table, th, td {\n",
       "    border: 1px solid black;\n",
       "    border-collapse: collapse;\n",
       "  }\n",
       "  th, td {\n",
       "    padding: 5px;\n",
       "  }\n",
       "  th {\n",
       "    text-align: left;\n",
       "  }\n",
       "</style><div class='table-result-container'><table class='table-result'><thead style='background-color: white'><tr><th>Year</th><th>SearchAttributes</th><th>SearchCount</th></tr></thead><tbody><tr><td>2021</td><td>{\"Location\": \"Paris\", \"Rooms\": 2}</td><td>100</td></tr><tr><td>2021</td><td>{\"Departure\": \"NYC\", \"Arrival\": \"LAX\"}</td><td>100</td></tr><tr><td>2022</td><td>{\"Departure\": \"LON\", \"Arrival\": \"BER\"}</td><td>100</td></tr><tr><td>2022</td><td>{\"Model\": \"SUV\", \"Passengers\": 4}</td><td>100</td></tr></tbody></table></div>"
      ]
     },
     "metadata": {
      "application/vnd.databricks.v1+output": {
       "addedWidgets": {},
       "aggData": [],
       "aggError": "",
       "aggOverflow": false,
       "aggSchema": [],
       "aggSeriesLimitReached": false,
       "aggType": "",
       "arguments": {},
       "columnCustomDisplayInfos": {},
       "data": [
        [
         2021,
         "{\"Location\": \"Paris\", \"Rooms\": 2}",
         100
        ],
        [
         2021,
         "{\"Departure\": \"NYC\", \"Arrival\": \"LAX\"}",
         100
        ],
        [
         2022,
         "{\"Departure\": \"LON\", \"Arrival\": \"BER\"}",
         100
        ],
        [
         2022,
         "{\"Model\": \"SUV\", \"Passengers\": 4}",
         100
        ]
       ],
       "datasetInfos": [],
       "dbfsResultPath": null,
       "isJsonSchema": true,
       "metadata": {
        "createTempViewForImplicitDf": true,
        "dataframeName": "_sqldf",
        "executionCount": 126
       },
       "overflow": false,
       "plotOptions": {
        "customPlotOptions": {},
        "displayType": "table",
        "pivotAggregation": null,
        "pivotColumns": null,
        "xColumns": null,
        "yColumns": null
       },
       "removedWidgets": [],
       "schema": [
        {
         "metadata": "{}",
         "name": "Year",
         "type": "\"integer\""
        },
        {
         "metadata": "{}",
         "name": "SearchAttributes",
         "type": "\"string\""
        },
        {
         "metadata": "{}",
         "name": "SearchCount",
         "type": "\"long\""
        }
       ],
       "type": "table"
      }
     },
     "output_type": "display_data"
    }
   ],
   "source": [
    "%sql\n",
    "-- Top 10 Searches for Each Year\n",
    "WITH SearchCounts AS (\n",
    "    SELECT \n",
    "        YEAR(dd.DateKey) AS Year,\n",
    "        sf.SearchDetails AS SearchAttributes,\n",
    "        COUNT(*) AS SearchCount\n",
    "    FROM SearchFact sf\n",
    "    JOIN DateDimension dd ON sf.SearchDate = dd.DateKey\n",
    "    GROUP BY YEAR(dd.DateKey), sf.SearchDetails\n",
    ")\n",
    "SELECT Year, SearchAttributes, SearchCount\n",
    "FROM (\n",
    "    SELECT \n",
    "        Year,\n",
    "        SearchAttributes,\n",
    "        SearchCount,\n",
    "        ROW_NUMBER() OVER (PARTITION BY Year ORDER BY SearchCount DESC) AS Rank\n",
    "    FROM SearchCounts\n",
    ") Ranked\n",
    "WHERE Rank <= 10;"
   ]
  },
  {
   "cell_type": "code",
   "execution_count": 0,
   "metadata": {
    "application/vnd.databricks.v1+cell": {
     "cellMetadata": {
      "byteLimit": 2048000,
      "implicitDf": true,
      "rowLimit": 10000
     },
     "inputWidgets": {},
     "nuid": "72a8ddd5-057b-4bbf-bc23-4839e0355fae",
     "showTitle": false,
     "tableResultSettingsMap": {},
     "title": ""
    }
   },
   "outputs": [
    {
     "data": {
      "text/html": [
       "<style scoped>\n",
       "  .table-result-container {\n",
       "    max-height: 300px;\n",
       "    overflow: auto;\n",
       "  }\n",
       "  table, th, td {\n",
       "    border: 1px solid black;\n",
       "    border-collapse: collapse;\n",
       "  }\n",
       "  th, td {\n",
       "    padding: 5px;\n",
       "  }\n",
       "  th {\n",
       "    text-align: left;\n",
       "  }\n",
       "</style><div class='table-result-container'><table class='table-result'><thead style='background-color: white'><tr><th>Year</th><th>BusinessLineName</th><th>GrowthPercentage</th></tr></thead><tbody><tr><td>2021</td><td>Hotel</td><td>0E-14</td></tr><tr><td>2022</td><td>Car</td><td>0E-14</td></tr><tr><td>2022</td><td>Flight</td><td>0E-14</td></tr><tr><td>2021</td><td>Flight</td><td>0E-14</td></tr></tbody></table></div>"
      ]
     },
     "metadata": {
      "application/vnd.databricks.v1+output": {
       "addedWidgets": {},
       "aggData": [],
       "aggError": "",
       "aggOverflow": false,
       "aggSchema": [],
       "aggSeriesLimitReached": false,
       "aggType": "",
       "arguments": {},
       "columnCustomDisplayInfos": {},
       "data": [
        [
         2021,
         "Hotel",
         "0E-14"
        ],
        [
         2022,
         "Car",
         "0E-14"
        ],
        [
         2022,
         "Flight",
         "0E-14"
        ],
        [
         2021,
         "Flight",
         "0E-14"
        ]
       ],
       "datasetInfos": [],
       "dbfsResultPath": null,
       "isJsonSchema": true,
       "metadata": {
        "createTempViewForImplicitDf": true,
        "dataframeName": "_sqldf",
        "executionCount": 123
       },
       "overflow": false,
       "plotOptions": {
        "customPlotOptions": {},
        "displayType": "table",
        "pivotAggregation": null,
        "pivotColumns": null,
        "xColumns": null,
        "yColumns": null
       },
       "removedWidgets": [],
       "schema": [
        {
         "metadata": "{}",
         "name": "Year",
         "type": "\"integer\""
        },
        {
         "metadata": "{\"__CHAR_VARCHAR_TYPE_STRING\":\"varchar(50)\"}",
         "name": "BusinessLineName",
         "type": "\"string\""
        },
        {
         "metadata": "{}",
         "name": "GrowthPercentage",
         "type": "\"decimal(38,14)\""
        }
       ],
       "type": "table"
      }
     },
     "output_type": "display_data"
    }
   ],
   "source": [
    "%sql\n",
    "-- Percentage growth in booking by year and business lines (Flight, Hotel, Car)\n",
    "WITH YearlyBookings AS (\n",
    "    SELECT \n",
    "        YEAR(dd.DateKey) AS Year,\n",
    "        bld.BusinessLineName,\n",
    "        COUNT(*) AS TotalBookings\n",
    "    FROM BookingFact bf\n",
    "    JOIN DateDimension dd ON bf.BookingDate = dd.DateKey\n",
    "    JOIN BusinessLineDimension bld ON bf.BusinessLine = bld.BusinessLineName\n",
    "    GROUP BY YEAR(dd.DateKey), bld.BusinessLineName\n",
    "),\n",
    "Growth AS (\n",
    "    SELECT \n",
    "        Current.Year,\n",
    "        Current.BusinessLineName,\n",
    "        ((Current.TotalBookings - Previous.TotalBookings) * 100.0 / Previous.TotalBookings) AS GrowthPercentage\n",
    "    FROM YearlyBookings Current\n",
    "    LEFT JOIN YearlyBookings Previous \n",
    "        ON Current.BusinessLineName = Previous.BusinessLineName AND Current.Year = Previous.Year + 1\n",
    ")\n",
    "SELECT Year, BusinessLineName, COALESCE(GrowthPercentage, 0) AS GrowthPercentage\n",
    "FROM Growth;\n"
   ]
  },
  {
   "cell_type": "markdown",
   "metadata": {
    "application/vnd.databricks.v1+cell": {
     "cellMetadata": {},
     "inputWidgets": {},
     "nuid": "1ba9bacf-6753-4398-94bd-0bad88e85cce",
     "showTitle": false,
     "tableResultSettingsMap": {},
     "title": ""
    }
   },
   "source": []
  },
  {
   "cell_type": "markdown",
   "metadata": {
    "application/vnd.databricks.v1+cell": {
     "cellMetadata": {},
     "inputWidgets": {},
     "nuid": "a210a185-8690-46bc-983b-adaa6dec4ddc",
     "showTitle": false,
     "tableResultSettingsMap": {},
     "title": ""
    }
   },
   "source": [
    "### **ETL Exercise**"
   ]
  },
  {
   "cell_type": "markdown",
   "metadata": {
    "application/vnd.databricks.v1+cell": {
     "cellMetadata": {},
     "inputWidgets": {},
     "nuid": "6fb01027-918a-40d0-9a12-ff6eef6f4c0c",
     "showTitle": false,
     "tableResultSettingsMap": {},
     "title": ""
    }
   },
   "source": [
    "\n",
    "**Problem Statement:** \n",
    "  Create an ETL pipeline to extract data from the “user” API, transform\n",
    "  and store the data into the DWH data model. Add logic to the ETL pipeline to process and\n",
    "  store 1000 users in DB.\n",
    "\n",
    "API info:\n",
    "- To extract data - https://random-data-api.com/api/v2/users\n",
    "- API docs - https://random-data-api.com/documentation\n",
    "\n",
    "Tools or Tech info: Please feel free to use any tools or technology"
   ]
  },
  {
   "cell_type": "code",
   "execution_count": 0,
   "metadata": {
    "application/vnd.databricks.v1+cell": {
     "cellMetadata": {
      "byteLimit": 2048000,
      "implicitDf": true,
      "rowLimit": 10000
     },
     "inputWidgets": {},
     "nuid": "c056af15-ddbd-4db4-b282-32267dc166ab",
     "showTitle": false,
     "tableResultSettingsMap": {},
     "title": ""
    }
   },
   "outputs": [
    {
     "data": {
      "text/html": [
       "<style scoped>\n",
       "  .table-result-container {\n",
       "    max-height: 300px;\n",
       "    overflow: auto;\n",
       "  }\n",
       "  table, th, td {\n",
       "    border: 1px solid black;\n",
       "    border-collapse: collapse;\n",
       "  }\n",
       "  th, td {\n",
       "    padding: 5px;\n",
       "  }\n",
       "  th {\n",
       "    text-align: left;\n",
       "  }\n",
       "</style><div class='table-result-container'><table class='table-result'><thead style='background-color: white'><tr></tr></thead><tbody></tbody></table></div>"
      ]
     },
     "metadata": {
      "application/vnd.databricks.v1+output": {
       "addedWidgets": {},
       "aggData": [],
       "aggError": "",
       "aggOverflow": false,
       "aggSchema": [],
       "aggSeriesLimitReached": false,
       "aggType": "",
       "arguments": {},
       "columnCustomDisplayInfos": {},
       "data": [],
       "datasetInfos": [],
       "dbfsResultPath": null,
       "isJsonSchema": true,
       "metadata": {
        "dataframeName": null
       },
       "overflow": false,
       "plotOptions": {
        "customPlotOptions": {},
        "displayType": "table",
        "pivotAggregation": null,
        "pivotColumns": null,
        "xColumns": null,
        "yColumns": null
       },
       "removedWidgets": [],
       "schema": [],
       "type": "table"
      }
     },
     "output_type": "display_data"
    }
   ],
   "source": [
    "%sql\n",
    "USE ml.default;\n"
   ]
  },
  {
   "cell_type": "code",
   "execution_count": 0,
   "metadata": {
    "application/vnd.databricks.v1+cell": {
     "cellMetadata": {
      "byteLimit": 2048000,
      "implicitDf": true,
      "rowLimit": 10000
     },
     "inputWidgets": {},
     "nuid": "87e69475-82ce-48e4-8d31-610b1066e33a",
     "showTitle": false,
     "tableResultSettingsMap": {},
     "title": ""
    }
   },
   "outputs": [
    {
     "data": {
      "text/html": [
       "<style scoped>\n",
       "  .table-result-container {\n",
       "    max-height: 300px;\n",
       "    overflow: auto;\n",
       "  }\n",
       "  table, th, td {\n",
       "    border: 1px solid black;\n",
       "    border-collapse: collapse;\n",
       "  }\n",
       "  th, td {\n",
       "    padding: 5px;\n",
       "  }\n",
       "  th {\n",
       "    text-align: left;\n",
       "  }\n",
       "</style><div class='table-result-container'><table class='table-result'><thead style='background-color: white'><tr></tr></thead><tbody></tbody></table></div>"
      ]
     },
     "metadata": {
      "application/vnd.databricks.v1+output": {
       "addedWidgets": {},
       "aggData": [],
       "aggError": "",
       "aggOverflow": false,
       "aggSchema": [],
       "aggSeriesLimitReached": false,
       "aggType": "",
       "arguments": {},
       "columnCustomDisplayInfos": {},
       "data": [],
       "datasetInfos": [],
       "dbfsResultPath": null,
       "isJsonSchema": true,
       "metadata": {
        "dataframeName": null
       },
       "overflow": false,
       "plotOptions": {
        "customPlotOptions": {},
        "displayType": "table",
        "pivotAggregation": null,
        "pivotColumns": null,
        "xColumns": null,
        "yColumns": null
       },
       "removedWidgets": [],
       "schema": [],
       "type": "table"
      }
     },
     "output_type": "display_data"
    }
   ],
   "source": [
    "%sql\n",
    "-- Users Table\n",
    "CREATE TABLE IF NOT EXISTS Users (\n",
    "    id BIGINT PRIMARY KEY,\n",
    "    uid VARCHAR(255),\n",
    "    first_name VARCHAR(100),\n",
    "    last_name VARCHAR(100),\n",
    "    username VARCHAR(255),\n",
    "    email VARCHAR(255),\n",
    "    gender VARCHAR(50),\n",
    "    phone_number VARCHAR(50),\n",
    "    social_insurance_number VARCHAR(50),\n",
    "    date_of_birth DATE\n",
    ");\n"
   ]
  },
  {
   "cell_type": "code",
   "execution_count": 0,
   "metadata": {
    "application/vnd.databricks.v1+cell": {
     "cellMetadata": {
      "byteLimit": 2048000,
      "implicitDf": true,
      "rowLimit": 10000
     },
     "inputWidgets": {},
     "nuid": "8728b806-1e9a-4d6b-b8c7-81424004aba9",
     "showTitle": false,
     "tableResultSettingsMap": {},
     "title": ""
    }
   },
   "outputs": [
    {
     "data": {
      "text/html": [
       "<style scoped>\n",
       "  .table-result-container {\n",
       "    max-height: 300px;\n",
       "    overflow: auto;\n",
       "  }\n",
       "  table, th, td {\n",
       "    border: 1px solid black;\n",
       "    border-collapse: collapse;\n",
       "  }\n",
       "  th, td {\n",
       "    padding: 5px;\n",
       "  }\n",
       "  th {\n",
       "    text-align: left;\n",
       "  }\n",
       "</style><div class='table-result-container'><table class='table-result'><thead style='background-color: white'><tr></tr></thead><tbody></tbody></table></div>"
      ]
     },
     "metadata": {
      "application/vnd.databricks.v1+output": {
       "addedWidgets": {},
       "aggData": [],
       "aggError": "",
       "aggOverflow": false,
       "aggSchema": [],
       "aggSeriesLimitReached": false,
       "aggType": "",
       "arguments": {},
       "columnCustomDisplayInfos": {},
       "data": [],
       "datasetInfos": [],
       "dbfsResultPath": null,
       "isJsonSchema": true,
       "metadata": {
        "dataframeName": null
       },
       "overflow": false,
       "plotOptions": {
        "customPlotOptions": {},
        "displayType": "table",
        "pivotAggregation": null,
        "pivotColumns": null,
        "xColumns": null,
        "yColumns": null
       },
       "removedWidgets": [],
       "schema": [],
       "type": "table"
      }
     },
     "output_type": "display_data"
    }
   ],
   "source": [
    "%sql\n",
    "-- Employment Table\n",
    "CREATE TABLE IF NOT EXISTS Employment (\n",
    "    user_id INT REFERENCES Users(id),\n",
    "    title VARCHAR(255),\n",
    "    key_skill VARCHAR(255)\n",
    ");\n"
   ]
  },
  {
   "cell_type": "code",
   "execution_count": 0,
   "metadata": {
    "application/vnd.databricks.v1+cell": {
     "cellMetadata": {
      "byteLimit": 2048000,
      "implicitDf": true,
      "rowLimit": 10000
     },
     "inputWidgets": {},
     "nuid": "55a779f7-7122-446c-9146-6b2470ffe9a0",
     "showTitle": false,
     "tableResultSettingsMap": {},
     "title": ""
    }
   },
   "outputs": [
    {
     "data": {
      "text/html": [
       "<style scoped>\n",
       "  .table-result-container {\n",
       "    max-height: 300px;\n",
       "    overflow: auto;\n",
       "  }\n",
       "  table, th, td {\n",
       "    border: 1px solid black;\n",
       "    border-collapse: collapse;\n",
       "  }\n",
       "  th, td {\n",
       "    padding: 5px;\n",
       "  }\n",
       "  th {\n",
       "    text-align: left;\n",
       "  }\n",
       "</style><div class='table-result-container'><table class='table-result'><thead style='background-color: white'><tr></tr></thead><tbody></tbody></table></div>"
      ]
     },
     "metadata": {
      "application/vnd.databricks.v1+output": {
       "addedWidgets": {},
       "aggData": [],
       "aggError": "",
       "aggOverflow": false,
       "aggSchema": [],
       "aggSeriesLimitReached": false,
       "aggType": "",
       "arguments": {},
       "columnCustomDisplayInfos": {},
       "data": [],
       "datasetInfos": [],
       "dbfsResultPath": null,
       "isJsonSchema": true,
       "metadata": {
        "dataframeName": null
       },
       "overflow": false,
       "plotOptions": {
        "customPlotOptions": {},
        "displayType": "table",
        "pivotAggregation": null,
        "pivotColumns": null,
        "xColumns": null,
        "yColumns": null
       },
       "removedWidgets": [],
       "schema": [],
       "type": "table"
      }
     },
     "output_type": "display_data"
    }
   ],
   "source": [
    "%sql\n",
    "-- Address Table\n",
    "CREATE TABLE IF NOT EXISTS Address (\n",
    "    user_id INT REFERENCES Users(id),\n",
    "    street_address VARCHAR(255),\n",
    "    street_name VARCHAR(255),\n",
    "    city VARCHAR(100),\n",
    "    state VARCHAR(100),\n",
    "    zip_code VARCHAR(50),\n",
    "    country VARCHAR(100),\n",
    "    lat FLOAT,\n",
    "    lng FLOAT\n",
    ");\n"
   ]
  },
  {
   "cell_type": "code",
   "execution_count": 0,
   "metadata": {
    "application/vnd.databricks.v1+cell": {
     "cellMetadata": {
      "byteLimit": 2048000,
      "implicitDf": true,
      "rowLimit": 10000
     },
     "inputWidgets": {},
     "nuid": "ff9e20d3-1dee-4eca-b98e-4ed4c87e4635",
     "showTitle": false,
     "tableResultSettingsMap": {},
     "title": ""
    }
   },
   "outputs": [
    {
     "data": {
      "text/html": [
       "<style scoped>\n",
       "  .table-result-container {\n",
       "    max-height: 300px;\n",
       "    overflow: auto;\n",
       "  }\n",
       "  table, th, td {\n",
       "    border: 1px solid black;\n",
       "    border-collapse: collapse;\n",
       "  }\n",
       "  th, td {\n",
       "    padding: 5px;\n",
       "  }\n",
       "  th {\n",
       "    text-align: left;\n",
       "  }\n",
       "</style><div class='table-result-container'><table class='table-result'><thead style='background-color: white'><tr></tr></thead><tbody></tbody></table></div>"
      ]
     },
     "metadata": {
      "application/vnd.databricks.v1+output": {
       "addedWidgets": {},
       "aggData": [],
       "aggError": "",
       "aggOverflow": false,
       "aggSchema": [],
       "aggSeriesLimitReached": false,
       "aggType": "",
       "arguments": {},
       "columnCustomDisplayInfos": {},
       "data": [],
       "datasetInfos": [],
       "dbfsResultPath": null,
       "isJsonSchema": true,
       "metadata": {
        "dataframeName": null
       },
       "overflow": false,
       "plotOptions": {
        "customPlotOptions": {},
        "displayType": "table",
        "pivotAggregation": null,
        "pivotColumns": null,
        "xColumns": null,
        "yColumns": null
       },
       "removedWidgets": [],
       "schema": [],
       "type": "table"
      }
     },
     "output_type": "display_data"
    }
   ],
   "source": [
    "%sql\n",
    "-- CreditCard Table\n",
    "CREATE TABLE IF NOT EXISTS CreditCard (\n",
    "    user_id INT REFERENCES Users(id),\n",
    "    cc_number VARCHAR(255)\n",
    ");\n"
   ]
  },
  {
   "cell_type": "code",
   "execution_count": 0,
   "metadata": {
    "application/vnd.databricks.v1+cell": {
     "cellMetadata": {
      "byteLimit": 2048000,
      "implicitDf": true,
      "rowLimit": 10000
     },
     "inputWidgets": {},
     "nuid": "34d82f5d-e847-486a-a73d-64617323f079",
     "showTitle": false,
     "tableResultSettingsMap": {},
     "title": ""
    }
   },
   "outputs": [
    {
     "data": {
      "text/html": [
       "<style scoped>\n",
       "  .table-result-container {\n",
       "    max-height: 300px;\n",
       "    overflow: auto;\n",
       "  }\n",
       "  table, th, td {\n",
       "    border: 1px solid black;\n",
       "    border-collapse: collapse;\n",
       "  }\n",
       "  th, td {\n",
       "    padding: 5px;\n",
       "  }\n",
       "  th {\n",
       "    text-align: left;\n",
       "  }\n",
       "</style><div class='table-result-container'><table class='table-result'><thead style='background-color: white'><tr></tr></thead><tbody></tbody></table></div>"
      ]
     },
     "metadata": {
      "application/vnd.databricks.v1+output": {
       "addedWidgets": {},
       "aggData": [],
       "aggError": "",
       "aggOverflow": false,
       "aggSchema": [],
       "aggSeriesLimitReached": false,
       "aggType": "",
       "arguments": {},
       "columnCustomDisplayInfos": {},
       "data": [],
       "datasetInfos": [],
       "dbfsResultPath": null,
       "isJsonSchema": true,
       "metadata": {
        "dataframeName": null
       },
       "overflow": false,
       "plotOptions": {
        "customPlotOptions": {},
        "displayType": "table",
        "pivotAggregation": null,
        "pivotColumns": null,
        "xColumns": null,
        "yColumns": null
       },
       "removedWidgets": [],
       "schema": [],
       "type": "table"
      }
     },
     "output_type": "display_data"
    }
   ],
   "source": [
    "%sql\n",
    "-- Subscription Table\n",
    "CREATE TABLE IF NOT EXISTS Subscription (\n",
    "    user_id INT REFERENCES Users(id),\n",
    "    plan VARCHAR(50),\n",
    "    status VARCHAR(50),\n",
    "    payment_method VARCHAR(50),\n",
    "    term VARCHAR(50)\n",
    ");\n"
   ]
  },
  {
   "cell_type": "code",
   "execution_count": 0,
   "metadata": {
    "application/vnd.databricks.v1+cell": {
     "cellMetadata": {
      "byteLimit": 2048000,
      "rowLimit": 10000
     },
     "inputWidgets": {},
     "nuid": "3e3c39eb-15ba-4f00-a0f6-5c51785ae0f2",
     "showTitle": false,
     "tableResultSettingsMap": {},
     "title": ""
    }
   },
   "outputs": [
    {
     "name": "stdout",
     "output_type": "stream",
     "text": [
      "Starting ETL Pipeline...\n",
      "ETL Pipeline completed successfully!\n"
     ]
    }
   ],
   "source": [
    "%python\n",
    "import requests\n",
    "from pyspark.sql import SparkSession\n",
    "\n",
    "# API Configuration\n",
    "API_URL = \"https://random-data-api.com/api/v2/users\"\n",
    "BATCH_SIZE = 1000\n",
    "\n",
    "# Initialize Spark Session\n",
    "spark = SparkSession.builder.appName(\"Simplified_ETL_Pipeline\").getOrCreate()\n",
    "\n",
    "# Step 1: Fetch Data from API\n",
    "def fetch_users(api_url, batch_size):\n",
    "    users = []\n",
    "    for _ in range(batch_size):\n",
    "        response = requests.get(api_url)\n",
    "        if response.status_code == 200:\n",
    "            users.append(response.json())\n",
    "    return users\n",
    "\n",
    "# Step 2: Transform Data\n",
    "def transform_data(raw_data):\n",
    "    return {\n",
    "        \"Users\": [\n",
    "            {\n",
    "                \"id\": user[\"id\"],\n",
    "                \"uid\": user[\"uid\"],\n",
    "                \"first_name\": user[\"first_name\"],\n",
    "                \"last_name\": user[\"last_name\"],\n",
    "                \"username\": user[\"username\"],\n",
    "                \"email\": user[\"email\"],\n",
    "                \"gender\": user[\"gender\"],\n",
    "                \"phone_number\": user[\"phone_number\"],\n",
    "                \"social_insurance_number\": user[\"social_insurance_number\"],\n",
    "                \"date_of_birth\": user[\"date_of_birth\"]\n",
    "            }\n",
    "            for user in raw_data\n",
    "        ],\n",
    "        \"Employment\": [\n",
    "            {\n",
    "                \"user_id\": user[\"id\"],\n",
    "                \"title\": user[\"employment\"][\"title\"],\n",
    "                \"key_skill\": user[\"employment\"][\"key_skill\"]\n",
    "            }\n",
    "            for user in raw_data\n",
    "        ],\n",
    "        \"Address\": [\n",
    "            {\n",
    "                \"user_id\": user[\"id\"],\n",
    "                \"street_address\": user[\"address\"][\"street_address\"],\n",
    "                \"city\": user[\"address\"][\"city\"],\n",
    "                \"state\": user[\"address\"][\"state\"],\n",
    "                \"zip_code\": user[\"address\"][\"zip_code\"],\n",
    "                \"country\": user[\"address\"][\"country\"],\n",
    "                \"lat\": user[\"address\"][\"coordinates\"][\"lat\"],\n",
    "                \"lng\": user[\"address\"][\"coordinates\"][\"lng\"]\n",
    "            }\n",
    "            for user in raw_data\n",
    "        ],\n",
    "        \"CreditCard\": [\n",
    "            {\"user_id\": user[\"id\"], \"cc_number\": user[\"credit_card\"][\"cc_number\"]}\n",
    "            for user in raw_data\n",
    "        ],\n",
    "        \"Subscription\": [\n",
    "            {\n",
    "                \"user_id\": user[\"id\"],\n",
    "                \"plan\": user[\"subscription\"][\"plan\"],\n",
    "                \"status\": user[\"subscription\"][\"status\"],\n",
    "                \"payment_method\": user[\"subscription\"][\"payment_method\"],\n",
    "                \"term\": user[\"subscription\"][\"term\"]\n",
    "            }\n",
    "            for user in raw_data\n",
    "        ]\n",
    "    }\n",
    "\n",
    "# Step 3: Load Data into Delta Tables\n",
    "def load_to_delta(data, table_name):\n",
    "    spark.createDataFrame(data).write.format(\"delta\").mode(\"overwrite\").saveAsTable(table_name)\n",
    "\n",
    "# Main ETL Process\n",
    "def run_etl():\n",
    "    print(\"Starting ETL Pipeline...\")\n",
    "    raw_users = fetch_users(API_URL, BATCH_SIZE)\n",
    "    transformed_data = transform_data(raw_users)\n",
    "    \n",
    "    for table, data in transformed_data.items():\n",
    "        load_to_delta(data, f\"default.{table}\")\n",
    "\n",
    "    print(\"ETL Pipeline completed successfully!\")\n",
    "\n",
    "# Execute ETL\n",
    "run_etl()"
   ]
  },
  {
   "cell_type": "code",
   "execution_count": 0,
   "metadata": {
    "application/vnd.databricks.v1+cell": {
     "cellMetadata": {
      "byteLimit": 2048000,
      "implicitDf": true,
      "rowLimit": 10000
     },
     "inputWidgets": {},
     "nuid": "88048088-6d04-4808-8df3-de925478792b",
     "showTitle": false,
     "tableResultSettingsMap": {},
     "title": ""
    }
   },
   "outputs": [
    {
     "data": {
      "text/html": [
       "<style scoped>\n",
       "  .table-result-container {\n",
       "    max-height: 300px;\n",
       "    overflow: auto;\n",
       "  }\n",
       "  table, th, td {\n",
       "    border: 1px solid black;\n",
       "    border-collapse: collapse;\n",
       "  }\n",
       "  th, td {\n",
       "    padding: 5px;\n",
       "  }\n",
       "  th {\n",
       "    text-align: left;\n",
       "  }\n",
       "</style><div class='table-result-container'><table class='table-result'><thead style='background-color: white'><tr><th>date_of_birth</th><th>email</th><th>first_name</th><th>gender</th><th>id</th><th>last_name</th><th>phone_number</th><th>social_insurance_number</th><th>uid</th><th>username</th></tr></thead><tbody><tr><td>1981-12-14</td><td>cristobal.langworth@email.com</td><td>Cristobal</td><td>Female</td><td>1010</td><td>Langworth</td><td>+1-246 138.710.5848 x6879</td><td>256702820</td><td>0b79e6ff-cb87-49e5-9c0c-896d779e5008</td><td>cristobal.langworth</td></tr><tr><td>1986-10-06</td><td>jayson.herman@email.com</td><td>Jayson</td><td>Female</td><td>4510</td><td>Herman</td><td>+262 973-382-4314</td><td>475945127</td><td>a2e7d2f5-07cb-4dde-97a3-6c51a036ea96</td><td>jayson.herman</td></tr><tr><td>1989-05-06</td><td>maximo.kuphal@email.com</td><td>Maximo</td><td>Genderfluid</td><td>2783</td><td>Kuphal</td><td>+30 (746) 288-5733 x94656</td><td>966515983</td><td>b0efe891-400a-47f1-9c37-621f79c36d2e</td><td>maximo.kuphal</td></tr><tr><td>2000-04-26</td><td>fredrick.bechtelar@email.com</td><td>Fredrick</td><td>Polygender</td><td>8742</td><td>Bechtelar</td><td>+27 253.203.7846 x897</td><td>299835058</td><td>09f31b15-d7b3-41f4-b764-11945e9c5d5e</td><td>fredrick.bechtelar</td></tr><tr><td>1999-06-11</td><td>garland.ernser@email.com</td><td>Garland</td><td>Genderqueer</td><td>5739</td><td>Ernser</td><td>+964 1-108-741-1325 x5871</td><td>596082396</td><td>95aa2936-afe8-4154-a352-1795e21157c8</td><td>garland.ernser</td></tr><tr><td>1977-01-09</td><td>tommie.mueller@email.com</td><td>Tommie</td><td>Agender</td><td>7431</td><td>Mueller</td><td>+266 893-596-1501 x06104</td><td>769449240</td><td>1b3479fc-4423-443b-88ac-d602dcfcf53a</td><td>tommie.mueller</td></tr><tr><td>1982-12-22</td><td>josue.bernier@email.com</td><td>Josue</td><td>Female</td><td>8853</td><td>Bernier</td><td>+94 828-203-4829</td><td>473044972</td><td>e1e05389-9dfb-4458-93bd-3666234c87f9</td><td>josue.bernier</td></tr><tr><td>1991-11-04</td><td>raeann.schulist@email.com</td><td>Raeann</td><td>Genderqueer</td><td>1587</td><td>Schulist</td><td>+976 640-546-7618 x28679</td><td>968829911</td><td>40e386e4-eb4e-4bf0-af7c-0600b0eb0b39</td><td>raeann.schulist</td></tr><tr><td>1972-10-14</td><td>nannie.flatley@email.com</td><td>Nannie</td><td>Genderqueer</td><td>2574</td><td>Flatley</td><td>+504 760.845.8739 x9150</td><td>510779614</td><td>2d733421-bc4d-4443-b84f-4fa91b8fdaf7</td><td>nannie.flatley</td></tr><tr><td>1962-02-26</td><td>arlen.gleason@email.com</td><td>Arlen</td><td>Genderfluid</td><td>6361</td><td>Gleason</td><td>+54 1-933-551-5275 x4504</td><td>441198173</td><td>20160273-4b58-45ea-853b-30036d6dc8a9</td><td>arlen.gleason</td></tr></tbody></table></div>"
      ]
     },
     "metadata": {
      "application/vnd.databricks.v1+output": {
       "addedWidgets": {},
       "aggData": [],
       "aggError": "",
       "aggOverflow": false,
       "aggSchema": [],
       "aggSeriesLimitReached": false,
       "aggType": "",
       "arguments": {},
       "columnCustomDisplayInfos": {},
       "data": [
        [
         "1981-12-14",
         "cristobal.langworth@email.com",
         "Cristobal",
         "Female",
         1010,
         "Langworth",
         "+1-246 138.710.5848 x6879",
         "256702820",
         "0b79e6ff-cb87-49e5-9c0c-896d779e5008",
         "cristobal.langworth"
        ],
        [
         "1986-10-06",
         "jayson.herman@email.com",
         "Jayson",
         "Female",
         4510,
         "Herman",
         "+262 973-382-4314",
         "475945127",
         "a2e7d2f5-07cb-4dde-97a3-6c51a036ea96",
         "jayson.herman"
        ],
        [
         "1989-05-06",
         "maximo.kuphal@email.com",
         "Maximo",
         "Genderfluid",
         2783,
         "Kuphal",
         "+30 (746) 288-5733 x94656",
         "966515983",
         "b0efe891-400a-47f1-9c37-621f79c36d2e",
         "maximo.kuphal"
        ],
        [
         "2000-04-26",
         "fredrick.bechtelar@email.com",
         "Fredrick",
         "Polygender",
         8742,
         "Bechtelar",
         "+27 253.203.7846 x897",
         "299835058",
         "09f31b15-d7b3-41f4-b764-11945e9c5d5e",
         "fredrick.bechtelar"
        ],
        [
         "1999-06-11",
         "garland.ernser@email.com",
         "Garland",
         "Genderqueer",
         5739,
         "Ernser",
         "+964 1-108-741-1325 x5871",
         "596082396",
         "95aa2936-afe8-4154-a352-1795e21157c8",
         "garland.ernser"
        ],
        [
         "1977-01-09",
         "tommie.mueller@email.com",
         "Tommie",
         "Agender",
         7431,
         "Mueller",
         "+266 893-596-1501 x06104",
         "769449240",
         "1b3479fc-4423-443b-88ac-d602dcfcf53a",
         "tommie.mueller"
        ],
        [
         "1982-12-22",
         "josue.bernier@email.com",
         "Josue",
         "Female",
         8853,
         "Bernier",
         "+94 828-203-4829",
         "473044972",
         "e1e05389-9dfb-4458-93bd-3666234c87f9",
         "josue.bernier"
        ],
        [
         "1991-11-04",
         "raeann.schulist@email.com",
         "Raeann",
         "Genderqueer",
         1587,
         "Schulist",
         "+976 640-546-7618 x28679",
         "968829911",
         "40e386e4-eb4e-4bf0-af7c-0600b0eb0b39",
         "raeann.schulist"
        ],
        [
         "1972-10-14",
         "nannie.flatley@email.com",
         "Nannie",
         "Genderqueer",
         2574,
         "Flatley",
         "+504 760.845.8739 x9150",
         "510779614",
         "2d733421-bc4d-4443-b84f-4fa91b8fdaf7",
         "nannie.flatley"
        ],
        [
         "1962-02-26",
         "arlen.gleason@email.com",
         "Arlen",
         "Genderfluid",
         6361,
         "Gleason",
         "+54 1-933-551-5275 x4504",
         "441198173",
         "20160273-4b58-45ea-853b-30036d6dc8a9",
         "arlen.gleason"
        ]
       ],
       "datasetInfos": [],
       "dbfsResultPath": null,
       "isJsonSchema": true,
       "metadata": {
        "createTempViewForImplicitDf": true,
        "dataframeName": "_sqldf",
        "executionCount": 133
       },
       "overflow": false,
       "plotOptions": {
        "customPlotOptions": {},
        "displayType": "table",
        "pivotAggregation": null,
        "pivotColumns": null,
        "xColumns": null,
        "yColumns": null
       },
       "removedWidgets": [],
       "schema": [
        {
         "metadata": "{}",
         "name": "date_of_birth",
         "type": "\"string\""
        },
        {
         "metadata": "{}",
         "name": "email",
         "type": "\"string\""
        },
        {
         "metadata": "{}",
         "name": "first_name",
         "type": "\"string\""
        },
        {
         "metadata": "{}",
         "name": "gender",
         "type": "\"string\""
        },
        {
         "metadata": "{}",
         "name": "id",
         "type": "\"long\""
        },
        {
         "metadata": "{}",
         "name": "last_name",
         "type": "\"string\""
        },
        {
         "metadata": "{}",
         "name": "phone_number",
         "type": "\"string\""
        },
        {
         "metadata": "{}",
         "name": "social_insurance_number",
         "type": "\"string\""
        },
        {
         "metadata": "{}",
         "name": "uid",
         "type": "\"string\""
        },
        {
         "metadata": "{}",
         "name": "username",
         "type": "\"string\""
        }
       ],
       "type": "table"
      }
     },
     "output_type": "display_data"
    }
   ],
   "source": [
    "%sql\n",
    "SELECT * FROM Users LIMIT 10;"
   ]
  },
  {
   "cell_type": "code",
   "execution_count": 0,
   "metadata": {
    "application/vnd.databricks.v1+cell": {
     "cellMetadata": {
      "byteLimit": 2048000,
      "implicitDf": true,
      "rowLimit": 10000
     },
     "inputWidgets": {},
     "nuid": "584e8805-c563-44ec-b680-0c93de66a481",
     "showTitle": false,
     "tableResultSettingsMap": {},
     "title": ""
    }
   },
   "outputs": [
    {
     "data": {
      "text/html": [
       "<style scoped>\n",
       "  .table-result-container {\n",
       "    max-height: 300px;\n",
       "    overflow: auto;\n",
       "  }\n",
       "  table, th, td {\n",
       "    border: 1px solid black;\n",
       "    border-collapse: collapse;\n",
       "  }\n",
       "  th, td {\n",
       "    padding: 5px;\n",
       "  }\n",
       "  th {\n",
       "    text-align: left;\n",
       "  }\n",
       "</style><div class='table-result-container'><table class='table-result'><thead style='background-color: white'><tr><th>first_name</th><th>last_name</th><th>title</th><th>key_skill</th><th>city</th><th>status</th><th>cc_number</th></tr></thead><tbody><tr><td>Isaiah</td><td>Swift</td><td>Sales Assistant</td><td>Confidence</td><td>North Eboni</td><td>Pending</td><td>4491-8838-7879-1406</td></tr><tr><td>Don</td><td>Lesch</td><td>Regional Banking Officer</td><td>Fast learner</td><td>Pourosview</td><td>Pending</td><td>6771-8944-0081-7128</td></tr><tr><td>Catherin</td><td>Kozey</td><td>Dynamic Sales Developer</td><td>Communication</td><td>South Mariano</td><td>Active</td><td>6771-8947-4773-3194</td></tr><tr><td>Brigitte</td><td>Schamberger</td><td>Investor Community-Services Executive</td><td>Organisation</td><td>Lelahfort</td><td>Pending</td><td>4606059260851</td></tr><tr><td>Stephany</td><td>Feest</td><td>Principal Education Consultant</td><td>Work under pressure</td><td>Moonburgh</td><td>Blocked</td><td>4868031796242</td></tr><tr><td>Nannie</td><td>Flatley</td><td>Central Accounting Designer</td><td>Leadership</td><td>Martyfort</td><td>Idle</td><td>6771-8919-2599-6478</td></tr><tr><td>Arlen</td><td>Gleason</td><td>Community-Services Engineer</td><td>Work under pressure</td><td>Lake Marcus</td><td>Pending</td><td>5121-0051-3307-4684</td></tr><tr><td>Reginald</td><td>Lehner</td><td>District Retail Designer</td><td>Technical savvy</td><td>West Leonie</td><td>Idle</td><td>4886192539078</td></tr><tr><td>Mitsuko</td><td>Johnston</td><td>Administration Associate</td><td>Fast learner</td><td>Celiaview</td><td>Blocked</td><td>5535-6153-0756-5331</td></tr><tr><td>Garland</td><td>Ernser</td><td>Principal Director</td><td>Fast learner</td><td>Jesusfurt</td><td>Pending</td><td>5237-3069-2310-1856</td></tr></tbody></table></div>"
      ]
     },
     "metadata": {
      "application/vnd.databricks.v1+output": {
       "addedWidgets": {},
       "aggData": [],
       "aggError": "",
       "aggOverflow": false,
       "aggSchema": [],
       "aggSeriesLimitReached": false,
       "aggType": "",
       "arguments": {},
       "columnCustomDisplayInfos": {},
       "data": [
        [
         "Isaiah",
         "Swift",
         "Sales Assistant",
         "Confidence",
         "North Eboni",
         "Pending",
         "4491-8838-7879-1406"
        ],
        [
         "Don",
         "Lesch",
         "Regional Banking Officer",
         "Fast learner",
         "Pourosview",
         "Pending",
         "6771-8944-0081-7128"
        ],
        [
         "Catherin",
         "Kozey",
         "Dynamic Sales Developer",
         "Communication",
         "South Mariano",
         "Active",
         "6771-8947-4773-3194"
        ],
        [
         "Brigitte",
         "Schamberger",
         "Investor Community-Services Executive",
         "Organisation",
         "Lelahfort",
         "Pending",
         "4606059260851"
        ],
        [
         "Stephany",
         "Feest",
         "Principal Education Consultant",
         "Work under pressure",
         "Moonburgh",
         "Blocked",
         "4868031796242"
        ],
        [
         "Nannie",
         "Flatley",
         "Central Accounting Designer",
         "Leadership",
         "Martyfort",
         "Idle",
         "6771-8919-2599-6478"
        ],
        [
         "Arlen",
         "Gleason",
         "Community-Services Engineer",
         "Work under pressure",
         "Lake Marcus",
         "Pending",
         "5121-0051-3307-4684"
        ],
        [
         "Reginald",
         "Lehner",
         "District Retail Designer",
         "Technical savvy",
         "West Leonie",
         "Idle",
         "4886192539078"
        ],
        [
         "Mitsuko",
         "Johnston",
         "Administration Associate",
         "Fast learner",
         "Celiaview",
         "Blocked",
         "5535-6153-0756-5331"
        ],
        [
         "Garland",
         "Ernser",
         "Principal Director",
         "Fast learner",
         "Jesusfurt",
         "Pending",
         "5237-3069-2310-1856"
        ]
       ],
       "datasetInfos": [],
       "dbfsResultPath": null,
       "isJsonSchema": true,
       "metadata": {
        "createTempViewForImplicitDf": true,
        "dataframeName": "_sqldf",
        "executionCount": 146
       },
       "overflow": false,
       "plotOptions": {
        "customPlotOptions": {},
        "displayType": "table",
        "pivotAggregation": null,
        "pivotColumns": null,
        "xColumns": null,
        "yColumns": null
       },
       "removedWidgets": [],
       "schema": [
        {
         "metadata": "{}",
         "name": "first_name",
         "type": "\"string\""
        },
        {
         "metadata": "{}",
         "name": "last_name",
         "type": "\"string\""
        },
        {
         "metadata": "{}",
         "name": "title",
         "type": "\"string\""
        },
        {
         "metadata": "{}",
         "name": "key_skill",
         "type": "\"string\""
        },
        {
         "metadata": "{}",
         "name": "city",
         "type": "\"string\""
        },
        {
         "metadata": "{}",
         "name": "status",
         "type": "\"string\""
        },
        {
         "metadata": "{}",
         "name": "cc_number",
         "type": "\"string\""
        }
       ],
       "type": "table"
      }
     },
     "output_type": "display_data"
    }
   ],
   "source": [
    "%sql\n",
    "SELECT u.first_name, u.last_name, e.title, e.key_skill, a.city, s.status, cc.cc_number\n",
    "FROM Users u\n",
    "JOIN Employment e ON u.id = e.user_id\n",
    "JOIN Address a ON u.id = a.user_id\n",
    "JOIN Subscription s ON u.id = s.user_id\n",
    "JOIN CreditCard cc ON u.id = cc.user_id\n",
    "LIMIT 10;\n"
   ]
  }
 ],
 "metadata": {
  "application/vnd.databricks.v1+notebook": {
   "computePreferences": null,
   "dashboards": [],
   "environmentMetadata": {
    "base_environment": "",
    "client": "1"
   },
   "language": "python",
   "notebookMetadata": {
    "mostRecentlyExecutedCommandWithImplicitDF": {
     "commandId": 2559550150582443,
     "dataframes": [
      "_sqldf"
     ]
    },
    "pythonIndentUnit": 4
   },
   "notebookName": "ETL",
   "widgets": {}
  },
  "language_info": {
   "name": "python"
  }
 },
 "nbformat": 4,
 "nbformat_minor": 0
}
